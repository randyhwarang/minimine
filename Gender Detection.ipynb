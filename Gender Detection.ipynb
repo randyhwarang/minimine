{
  "nbformat": 4,
  "nbformat_minor": 0,
  "metadata": {
    "colab": {
      "provenance": [],
      "gpuType": "T4"
    },
    "kernelspec": {
      "name": "python3",
      "display_name": "Python 3"
    },
    "language_info": {
      "name": "python"
    },
    "accelerator": "GPU"
  },
  "cells": [
    {
      "cell_type": "code",
      "source": [
        "import pandas as pd\n",
        "import numpy as np\n",
        "import cv2\n",
        "import matplotlib.pyplot as plt\n",
        "import seaborn as sns\n",
        "from sklearn.metrics import f1_score\n",
        "\n",
        "from keras.applications.inception_resnet_v2 import InceptionResNetV2, preprocess_input\n",
        "from keras import optimizers\n",
        "from keras.models import Sequential, Model\n",
        "from keras.layers import Dropout, Flatten, Dense, GlobalAveragePooling2D\n",
        "from keras.callbacks import ModelCheckpoint\n",
        "from keras.preprocessing.image import ImageDataGenerator\n",
        "from PIL import Image, ImageOps\n",
        "from keras.utils import np_utils\n",
        "from keras.optimizers import SGD\n",
        "\n",
        "from IPython.core.display import display, HTML\n",
        "from PIL import Image\n",
        "from io import BytesIO\n",
        "import base64\n",
        "\n",
        "plt.style.use('ggplot')\n",
        "\n",
        "%matplotlib inline"
      ],
      "metadata": {
        "id": "APNEvky6KMWq"
      },
      "execution_count": 1,
      "outputs": []
    },
    {
      "cell_type": "code",
      "source": [
        "'''\n",
        "# Import CSV file\n",
        "dflist_attribute = pd.read_csv('list_attribute.csv', delimiter=';', error_bad_lines=False)\n",
        "'''"
      ],
      "metadata": {
        "colab": {
          "base_uri": "https://localhost:8080/",
          "height": 35
        },
        "id": "IIt4Dm8IOEEt",
        "outputId": "1dcecdba-18f3-40ec-8204-61648bf9a6b2"
      },
      "execution_count": 2,
      "outputs": [
        {
          "output_type": "execute_result",
          "data": {
            "text/plain": [
              "\"\\n# Import CSV file\\ndflist_attribute = pd.read_csv('list_attribute.csv', delimiter=';', error_bad_lines=False)\\n\""
            ],
            "application/vnd.google.colaboratory.intrinsic+json": {
              "type": "string"
            }
          },
          "metadata": {},
          "execution_count": 2
        }
      ]
    },
    {
      "cell_type": "code",
      "source": [
        "'''\n",
        "dflist_attribute.info()\n",
        "'''"
      ],
      "metadata": {
        "colab": {
          "base_uri": "https://localhost:8080/",
          "height": 35
        },
        "id": "G4sd-SCgOPqQ",
        "outputId": "4eeafcc9-2f5a-4718-ef08-41567a69adc8"
      },
      "execution_count": 3,
      "outputs": [
        {
          "output_type": "execute_result",
          "data": {
            "text/plain": [
              "'\\ndflist_attribute.info()\\n'"
            ],
            "application/vnd.google.colaboratory.intrinsic+json": {
              "type": "string"
            }
          },
          "metadata": {},
          "execution_count": 3
        }
      ]
    },
    {
      "cell_type": "code",
      "source": [
        "# set variables\n",
        "main_folder = 'celeab.zip/'\n",
        "images_folder = main_folder + 'Images/'\n",
        "\n",
        "EXAMPLE_PIC = images_folder + '000240.jpg'\n",
        "\n",
        "TRAINING_SAMPLES = 3000  # Adjusted number of training samples\n",
        "VALIDATION_SAMPLES = 500  # Adjusted number of validation samples\n",
        "TEST_SAMPLES = 1500\n",
        "IMG_WIDTH = 178\n",
        "IMG_HEIGHT = 218\n",
        "BATCH_SIZE = 16\n",
        "NUM_EPOCHS = 40"
      ],
      "metadata": {
        "id": "GpVsUj9GaJt3"
      },
      "execution_count": 9,
      "outputs": []
    },
    {
      "cell_type": "code",
      "source": [
        "# plot picture and attributes\n",
        "img = load_img(EXAMPLE_PIC)\n",
        "plt.grid(False)\n",
        "plt.imshow(img)\n",
        "df_attr.loc[EXAMPLE_PIC.split('/')[-1]][['Smiling','Male','Young']] #some attributes"
      ],
      "metadata": {
        "colab": {
          "base_uri": "https://localhost:8080/",
          "height": 239
        },
        "id": "OFvNEEgTc1ie",
        "outputId": "ab654899-cc64-4218-ee26-c9cc0e46cb87"
      },
      "execution_count": 12,
      "outputs": [
        {
          "output_type": "error",
          "ename": "NameError",
          "evalue": "ignored",
          "traceback": [
            "\u001b[0;31m---------------------------------------------------------------------------\u001b[0m",
            "\u001b[0;31mNameError\u001b[0m                                 Traceback (most recent call last)",
            "\u001b[0;32m<ipython-input-12-0b216942b18a>\u001b[0m in \u001b[0;36m<cell line: 2>\u001b[0;34m()\u001b[0m\n\u001b[1;32m      1\u001b[0m \u001b[0;31m# plot picture and attributes\u001b[0m\u001b[0;34m\u001b[0m\u001b[0;34m\u001b[0m\u001b[0m\n\u001b[0;32m----> 2\u001b[0;31m \u001b[0mimg\u001b[0m \u001b[0;34m=\u001b[0m \u001b[0mload_img\u001b[0m\u001b[0;34m(\u001b[0m\u001b[0mEXAMPLE_PIC\u001b[0m\u001b[0;34m)\u001b[0m\u001b[0;34m\u001b[0m\u001b[0;34m\u001b[0m\u001b[0m\n\u001b[0m\u001b[1;32m      3\u001b[0m \u001b[0mplt\u001b[0m\u001b[0;34m.\u001b[0m\u001b[0mgrid\u001b[0m\u001b[0;34m(\u001b[0m\u001b[0;32mFalse\u001b[0m\u001b[0;34m)\u001b[0m\u001b[0;34m\u001b[0m\u001b[0;34m\u001b[0m\u001b[0m\n\u001b[1;32m      4\u001b[0m \u001b[0mplt\u001b[0m\u001b[0;34m.\u001b[0m\u001b[0mimshow\u001b[0m\u001b[0;34m(\u001b[0m\u001b[0mimg\u001b[0m\u001b[0;34m)\u001b[0m\u001b[0;34m\u001b[0m\u001b[0;34m\u001b[0m\u001b[0m\n\u001b[1;32m      5\u001b[0m \u001b[0mdf_attr\u001b[0m\u001b[0;34m.\u001b[0m\u001b[0mloc\u001b[0m\u001b[0;34m[\u001b[0m\u001b[0mEXAMPLE_PIC\u001b[0m\u001b[0;34m.\u001b[0m\u001b[0msplit\u001b[0m\u001b[0;34m(\u001b[0m\u001b[0;34m'/'\u001b[0m\u001b[0;34m)\u001b[0m\u001b[0;34m[\u001b[0m\u001b[0;34m-\u001b[0m\u001b[0;36m1\u001b[0m\u001b[0;34m]\u001b[0m\u001b[0;34m]\u001b[0m\u001b[0;34m[\u001b[0m\u001b[0;34m[\u001b[0m\u001b[0;34m'Smiling'\u001b[0m\u001b[0;34m,\u001b[0m\u001b[0;34m'Male'\u001b[0m\u001b[0;34m,\u001b[0m\u001b[0;34m'Young'\u001b[0m\u001b[0;34m]\u001b[0m\u001b[0;34m]\u001b[0m \u001b[0;31m#some attributes\u001b[0m\u001b[0;34m\u001b[0m\u001b[0;34m\u001b[0m\u001b[0m\n",
            "\u001b[0;31mNameError\u001b[0m: name 'load_img' is not defined"
          ]
        }
      ]
    },
    {
      "cell_type": "code",
      "source": [
        "# Female or Male?\n",
        "plt.title('Female or Male')\n",
        "sns.countplot(y='Male', data=df_attr, color=\"c\")\n",
        "plt.show()"
      ],
      "metadata": {
        "id": "PBRcb37zcNNv"
      },
      "execution_count": null,
      "outputs": []
    },
    {
      "cell_type": "code",
      "source": [
        "dfGenderFix = pd.read_csv('dfGenderFix.csv')\n",
        "dfGenderFix"
      ],
      "metadata": {
        "id": "oEIZ6q_mi4MZ"
      },
      "execution_count": null,
      "outputs": []
    },
    {
      "cell_type": "code",
      "source": [
        "male_count = dfGenderFix['Male'].value_counts()[1]\n",
        "female_count = dfGenderFix['Male'].value_counts()[0]\n",
        "\n",
        "print(\"Jumlah nilai Male = 1:\", male_count)\n",
        "print(\"Jumlah nilai Male = 0:\", female_count)"
      ],
      "metadata": {
        "id": "ikxfK3Brd1VA"
      },
      "execution_count": null,
      "outputs": []
    },
    {
      "cell_type": "code",
      "source": [
        "# display counter by partition\n",
        "# 0 -> TRAINING\n",
        "# 1 -> VALIDATION\n",
        "# 2 -> TEST\n",
        "df_Gender['dfGenderFix'].value_counts().sort_index()"
      ],
      "metadata": {
        "id": "MZuN8R1pdmLl"
      },
      "execution_count": null,
      "outputs": []
    },
    {
      "cell_type": "code",
      "source": [
        "def load_reshape_img(fname):\n",
        "    img = load_img(fname)\n",
        "    x = img_to_array(img)/255.\n",
        "    x = x.reshape((1,) + x.shape)\n",
        "\n",
        "    return x\n",
        "\n",
        "\n",
        "def generate_df(partition, attr, num_samples):\n",
        "    '''\n",
        "    partition\n",
        "        0 -> train\n",
        "        1 -> validation\n",
        "        2 -> test\n",
        "\n",
        "    '''\n",
        "\n",
        "    df_ = df_par_attr[(df_par_attr['partition'] == partition)\n",
        "                           & (dfGenderFix.csv[attr] == 0)].sample(int(num_samples/2))\n",
        "    df_ = pd.concat([df_,\n",
        "                      dfGenderFix.csv[(dfGenderFix.csv['partition'] == partition)\n",
        "                                  & (dfGenderFix.csvattr] == 1)].sample(int(num_samples/2))])\n",
        "\n",
        "    # for Train and Validation\n",
        "    if partition != 2:\n",
        "        x_ = np.array([load_reshape_img(images_folder + fname) for fname in df_.index])\n",
        "        x_ = x_.reshape(x_.shape[0], 218, 178, 3)\n",
        "        y_ = np_utils.to_categorical(df_[attr],2)\n",
        "    # for Test\n",
        "    else:\n",
        "        x_ = []\n",
        "        y_ = []\n",
        "\n",
        "        for index, target in df_.iterrows():\n",
        "            im = cv2.imread(images_folder + index)\n",
        "            im = cv2.resize(cv2.cvtColor(im, cv2.COLOR_BGR2RGB), (IMG_WIDTH, IMG_HEIGHT)).astype(np.float32) / 255.0\n",
        "            im = np.expand_dims(im, axis =0)\n",
        "            x_.append(im)\n",
        "            y_.append(target[attr])\n",
        "\n",
        "    return x_, y_"
      ],
      "metadata": {
        "id": "BzFuoc-0d_TG"
      },
      "execution_count": null,
      "outputs": []
    },
    {
      "cell_type": "code",
      "source": [
        "# Generate image generator for data augmentation\n",
        "datagen =  ImageDataGenerator(\n",
        "  #preprocessing_function=preprocess_input,\n",
        "  rotation_range=30,\n",
        "  width_shift_range=0.2,\n",
        "  height_shift_range=0.2,\n",
        "  shear_range=0.2,\n",
        "  zoom_range=0.2,\n",
        "  horizontal_flip=True\n",
        ")\n",
        "\n",
        "# load one image and reshape\n",
        "img = load_img(EXAMPLE_PIC)\n",
        "x = img_to_array(img)/255.\n",
        "x = x.reshape((1,) + x.shape)\n",
        "\n",
        "# plot 10 augmented images of the loaded iamge\n",
        "plt.figure(figsize=(20,10))\n",
        "plt.suptitle('Data Augmentation', fontsize=28)\n",
        "\n",
        "i = 0\n",
        "for batch in datagen.flow(x, batch_size=1):\n",
        "    plt.subplot(3, 5, i+1)\n",
        "    plt.grid(False)\n",
        "    plt.imshow( batch.reshape(218, 178, 3))\n",
        "\n",
        "    if i == 9:\n",
        "        break\n",
        "    i += 1\n",
        "\n",
        "plt.show()"
      ],
      "metadata": {
        "id": "Xr9tmMjteYlj"
      },
      "execution_count": null,
      "outputs": []
    },
    {
      "cell_type": "code",
      "source": [
        "# Train data\n",
        "x_train, y_train = generate_df(0, 'Male', TRAINING_SAMPLES)\n",
        "\n",
        "# Train - Data Preparation - Data Augmentation with generators\n",
        "train_datagen =  ImageDataGenerator(\n",
        "  preprocessing_function=preprocess_input,\n",
        "  rotation_range=30,\n",
        "  width_shift_range=0.2,\n",
        "  height_shift_range=0.2,\n",
        "  shear_range=0.2,\n",
        "  zoom_range=0.2,\n",
        "  horizontal_flip=True,\n",
        ")\n",
        "\n",
        "train_datagen.fit(x_train)\n",
        "\n",
        "train_generator = train_datagen.flow(\n",
        "x_train, y_train,\n",
        "batch_size=BATCH_SIZE,\n",
        ")"
      ],
      "metadata": {
        "id": "jVG26sWoedB3"
      },
      "execution_count": null,
      "outputs": []
    },
    {
      "cell_type": "code",
      "source": [
        "# Validation Data\n",
        "x_valid, y_valid = generate_df(1, 'Male', VALIDATION_SAMPLES)\n",
        "\n",
        "'''\n",
        "# Validation - Data Preparation - Data Augmentation with generators\n",
        "valid_datagen = ImageDataGenerator(\n",
        "  preprocessing_function=preprocess_input,\n",
        ")\n",
        "\n",
        "valid_datagen.fit(x_valid)\n",
        "\n",
        "validation_generator = valid_datagen.flow(\n",
        "x_valid, y_valid,\n",
        ")\n",
        "'''"
      ],
      "metadata": {
        "id": "VjZyta7xeiAl"
      },
      "execution_count": null,
      "outputs": []
    },
    {
      "cell_type": "code",
      "source": [
        "# Import InceptionResNetV2 Model\n",
        "inc_model = InceptionResNetV2(weights='inceptionresnetv2/inception_resnet_v2_weights_tf_dim_ordering_tf_kernels_notop.h5',\n",
        "                              include_top=False,\n",
        "                              input_shape=(IMG_HEIGHT, IMG_WIDTH, 3))\n",
        "\n",
        "print(\"number of layers:\", len(inc_model.layers))\n",
        "#inc_model.summary()"
      ],
      "metadata": {
        "id": "_WUG2uWuexpy"
      },
      "execution_count": null,
      "outputs": []
    },
    {
      "cell_type": "code",
      "source": [
        "#Adding custom Layers\n",
        "x = inc_model.output\n",
        "x = GlobalAveragePooling2D()(x)\n",
        "x = Dense(1024, activation=\"relu\")(x)\n",
        "x = Dropout(0.5)(x)\n",
        "x = Dense(512, activation=\"relu\")(x)\n",
        "predictions = Dense(2, activation=\"softmax\")(x)"
      ],
      "metadata": {
        "id": "7r4Dz55ge6zd"
      },
      "execution_count": null,
      "outputs": []
    },
    {
      "cell_type": "code",
      "source": [
        "# Plot loss function value through epochs\n",
        "plt.figure(figsize=(18, 4))\n",
        "plt.plot(hist.history['loss'], label = 'train')\n",
        "plt.plot(hist.history['val_loss'], label = 'valid')\n",
        "plt.legend()\n",
        "plt.title('Loss Function')\n",
        "plt.show()"
      ],
      "metadata": {
        "id": "esq0NrSJfB-U"
      },
      "execution_count": null,
      "outputs": []
    }
  ]
}